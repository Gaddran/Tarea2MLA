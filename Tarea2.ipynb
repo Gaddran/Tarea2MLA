{
 "cells": [
  {
   "cell_type": "markdown",
   "metadata": {},
   "source": [
    "<div>\n",
    "<img src=\"https://i.ibb.co/v3CvVz9/udd-short.png\" width=\"150\"/>\n",
    "    <br>\n",
    "    <strong>Universidad del Desarrollo</strong><br>\n",
    "    <em>Magíster en Data Science</em><br>\n",
    "    <em>Profesor: Tomás Fontecilla </em><br>\n",
    "\n",
    "</div>\n",
    "\n",
    "# Machine Learning Avanzado\n",
    "*2 de Diciembre de 2024*\n",
    "\n",
    "#### Integrantes: \n",
    "` Vicente Gallardo, Giuseppe Lavarello, `"
   ]
  },
  {
   "cell_type": "markdown",
   "metadata": {},
   "source": [
    "## 1. Objetivo\n",
    "\n",
    "El objetivo de este laboratorio es ajustar redes neuronales convolucionales según lo aprendido en clase para desarrollar un análisis de datos.\n",
    "\n",
    "Para esto, se trabajará con la base de **Chihuahuas vs Muffins** disponible en **Kaggle** ([enlace al dataset](https://www.kaggle.com/datasets/samuelcortinhas/muffin-vs-chihuahua-image-classification)) y se realizará lo siguiente:\n",
    "\n",
    "1. Implementar un modelo de Perceptrón Multicapa (MLP) para la clasificación de las imágenes.  \n",
    "2. Implementar y ajustar dos arquitecturas diferentes de Redes Neuronales Convolucionales (CNN).  \n",
    "3. Comparar los resultados entre el MLP y las CNN en términos de precisión y desempeño general.  \n",
    "\n"
   ]
  },
  {
   "cell_type": "markdown",
   "metadata": {},
   "source": [
    "## 2. Introducción\n",
    "\n",
    "En el ámbito de la ciencia de datos y el aprendizaje profundo, la clasificación de imágenes es un problema comun con amplias aplicaciones prácticas, como el reconocimiento facial, la detección de objetos y el diagnóstico médico. Este laboratorio aborda el desafío de clasificar imágenes en dos categorías visualmente similares: **chihuahuas** y **muffins**. \n",
    "\n",
    "Para esto se utilizará el conjunto de datos **Chihuahuas vs Muffins** de Kaggle, que proporciona imágenes etiquetadas para entrenar y evaluar modelos de clasificación.\n",
    "\n",
    "En este informe, se comparará el desempeño de un modelo de Perceptrón Multicapa (MLP) con dos arquitecturas diferentes de redes convolucionales, evaluando métricas clave como precisión y robustez del modelo. Además, se explorará cómo cada enfoque aborda el desafío y se destacarán las fortalezas y limitaciones de las técnicas utilizadas.\n"
   ]
  },
  {
   "cell_type": "markdown",
   "metadata": {},
   "source": [
    "## 3. Metodología \n",
    "\n",
    "1. Obtención del Dataset:  \n",
    "    -   Kaggle (Chihuahuas vs Muffins). \n",
    "\n",
    "2. Preprocesamiento:  \n",
    "    - Carga y exploración de imágenes.   \n",
    "    - Normalización de datos.   \n",
    "    - División en conjuntos de entrenamiento, validación y prueba.   \n",
    "\n",
    "3. Modelos a implementar:   \n",
    "    - Modelo 1: Perceptrón Multicapa (MLP).   \n",
    "    - Modelo 2: Red Convolucional simple (CNN básica).   \n",
    "    - Modelo 3: Red Convolucional más profunda con más capas convolucionales.   \n",
    "\n",
    "4. Métricas de evaluación:   \n",
    "    - Precisión (accuracy).   \n",
    "    - Matriz de confusión.   \n",
    "    - AUC-ROC.   \n",
    "\n",
    "5. Interpretación de los resultados y conclusiones. "
   ]
  },
  {
   "cell_type": "code",
   "execution_count": 2,
   "metadata": {},
   "outputs": [
    {
     "name": "stderr",
     "output_type": "stream",
     "text": [
      "2024-11-28 20:33:58.388974: E external/local_xla/xla/stream_executor/cuda/cuda_fft.cc:485] Unable to register cuFFT factory: Attempting to register factory for plugin cuFFT when one has already been registered\n",
      "2024-11-28 20:33:58.424646: E external/local_xla/xla/stream_executor/cuda/cuda_dnn.cc:8454] Unable to register cuDNN factory: Attempting to register factory for plugin cuDNN when one has already been registered\n",
      "2024-11-28 20:33:58.435497: E external/local_xla/xla/stream_executor/cuda/cuda_blas.cc:1452] Unable to register cuBLAS factory: Attempting to register factory for plugin cuBLAS when one has already been registered\n",
      "2024-11-28 20:33:58.580599: I tensorflow/core/platform/cpu_feature_guard.cc:210] This TensorFlow binary is optimized to use available CPU instructions in performance-critical operations.\n",
      "To enable the following instructions: SSE4.1 SSE4.2 AVX AVX2 FMA, in other operations, rebuild TensorFlow with the appropriate compiler flags.\n"
     ]
    }
   ],
   "source": [
    "import numpy as np\n",
    "import pandas as pd\n",
    "import matplotlib.pyplot as plt\n",
    "import tensorflow as tf\n",
    "from keras import models, layers, optimizers, activations"
   ]
  }
 ],
 "metadata": {
  "kernelspec": {
   "display_name": "Python 3 (ipykernel)",
   "language": "python",
   "name": "python3"
  },
  "language_info": {
   "codemirror_mode": {
    "name": "ipython",
    "version": 3
   },
   "file_extension": ".py",
   "mimetype": "text/x-python",
   "name": "python",
   "nbconvert_exporter": "python",
   "pygments_lexer": "ipython3",
   "version": "3.12.4"
  }
 },
 "nbformat": 4,
 "nbformat_minor": 2
}
